{
 "cells": [
  {
   "cell_type": "markdown",
   "id": "f7613704",
   "metadata": {},
   "source": [
    "## Method 3 - Using BaseTool Class\n"
   ]
  },
  {
   "cell_type": "code",
   "execution_count": 19,
   "id": "b279651f",
   "metadata": {},
   "outputs": [],
   "source": [
    "from langchain.tools import BaseTool\n",
    "from pydantic import BaseModel, Field\n",
    "from typing import Type"
   ]
  },
  {
   "cell_type": "code",
   "execution_count": 20,
   "id": "3f923942",
   "metadata": {},
   "outputs": [],
   "source": [
    "# arg schema using pydantic for validations\n",
    "\n",
    "class MultiplyInput(BaseModel):\n",
    "    a: int = Field(required=True, description=\"The first number to add\")\n",
    "    b: int = Field(required=True, description=\"The second number to add\")"
   ]
  },
  {
   "cell_type": "code",
   "execution_count": 21,
   "id": "bc2f3b1c",
   "metadata": {},
   "outputs": [],
   "source": [
    "class MultiplyTool(BaseTool):\n",
    "    name: str = \"multiply\"\n",
    "    description: str = \"Multiply two numbers\"\n",
    "    args_schema: Type[BaseModel] = MultiplyInput\n",
    "    def _run(self, a: int, b: int) -> int:\n",
    "        return a * b"
   ]
  },
  {
   "cell_type": "code",
   "execution_count": 22,
   "id": "6c3be58c",
   "metadata": {},
   "outputs": [],
   "source": [
    "multiply_tool = MultiplyTool()"
   ]
  },
  {
   "cell_type": "code",
   "execution_count": 23,
   "id": "50ac36ac",
   "metadata": {},
   "outputs": [
    {
     "data": {
      "text/plain": [
       "24435"
      ]
     },
     "execution_count": 23,
     "metadata": {},
     "output_type": "execute_result"
    }
   ],
   "source": [
    "result = multiply_tool.invoke({'a':45, 'b':543})\n",
    "result\n"
   ]
  },
  {
   "cell_type": "code",
   "execution_count": 24,
   "id": "ae8b892c",
   "metadata": {},
   "outputs": [
    {
     "name": "stdout",
     "output_type": "stream",
     "text": [
      "24435\n",
      "multiply\n"
     ]
    }
   ],
   "source": [
    "print(result)\n",
    "print(multiply_tool.name)"
   ]
  },
  {
   "cell_type": "code",
   "execution_count": 25,
   "id": "4701df15",
   "metadata": {},
   "outputs": [
    {
     "name": "stdout",
     "output_type": "stream",
     "text": [
      "Multiply two numbers\n",
      "{'a': {'description': 'The first number to add', 'required': True, 'title': 'A', 'type': 'integer'}, 'b': {'description': 'The second number to add', 'required': True, 'title': 'B', 'type': 'integer'}}\n"
     ]
    }
   ],
   "source": [
    "print(multiply_tool.description)\n",
    "print(multiply_tool.args)"
   ]
  },
  {
   "cell_type": "code",
   "execution_count": 28,
   "id": "42aaa787",
   "metadata": {},
   "outputs": [
    {
     "data": {
      "text/plain": [
       "225"
      ]
     },
     "execution_count": 28,
     "metadata": {},
     "output_type": "execute_result"
    }
   ],
   "source": [
    "result = multiply_tool.invoke({\"a\":45, \"b\":5})\n",
    "result"
   ]
  },
  {
   "cell_type": "markdown",
   "id": "d66af592",
   "metadata": {},
   "source": [
    "# LLM take from the tool"
   ]
  },
  {
   "cell_type": "code",
   "execution_count": null,
   "id": "cb3f5323",
   "metadata": {},
   "outputs": [],
   "source": [
    "print(multiply.args_schema)"
   ]
  }
 ],
 "metadata": {
  "kernelspec": {
   "display_name": "venv",
   "language": "python",
   "name": "python3"
  },
  "language_info": {
   "codemirror_mode": {
    "name": "ipython",
    "version": 3
   },
   "file_extension": ".py",
   "mimetype": "text/x-python",
   "name": "python",
   "nbconvert_exporter": "python",
   "pygments_lexer": "ipython3",
   "version": "3.10.11"
  }
 },
 "nbformat": 4,
 "nbformat_minor": 5
}
