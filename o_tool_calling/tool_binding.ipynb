{
 "cells": [
  {
   "cell_type": "code",
   "execution_count": 1,
   "id": "baa7cfdb",
   "metadata": {},
   "outputs": [
    {
     "name": "stderr",
     "output_type": "stream",
     "text": [
      "c:\\Ashuu\\Langchain\\venv\\lib\\site-packages\\tqdm\\auto.py:21: TqdmWarning: IProgress not found. Please update jupyter and ipywidgets. See https://ipywidgets.readthedocs.io/en/stable/user_install.html\n",
      "  from .autonotebook import tqdm as notebook_tqdm\n"
     ]
    }
   ],
   "source": [
    "from langchain_google_genai import ChatGoogleGenerativeAI\n",
    "from dotenv import load_dotenv\n",
    "from langchain_core.tools import tool\n",
    "from langchain_core.messages import HumanMessage\n",
    "from langchain_core.tools import InjectedToolArg\n",
    "import requests"
   ]
  },
  {
   "cell_type": "code",
   "execution_count": 2,
   "id": "2c2da1cd",
   "metadata": {},
   "outputs": [],
   "source": [
    "load_dotenv()\n",
    "llm = ChatGoogleGenerativeAI(model='gemini-2.0-flash')"
   ]
  },
  {
   "cell_type": "code",
   "execution_count": 3,
   "id": "8d885e6f",
   "metadata": {},
   "outputs": [],
   "source": [
    "# Creating a tool\n",
    "@tool\n",
    "def multiply(a: int, b: int) -> int:\n",
    "  \"\"\"Given 2 numbers a and b this tool returns their product\"\"\"\n",
    "  return a * b"
   ]
  },
  {
   "cell_type": "code",
   "execution_count": 4,
   "id": "4fef7fb5",
   "metadata": {},
   "outputs": [
    {
     "name": "stdout",
     "output_type": "stream",
     "text": [
      "150\n",
      "multiply\n",
      "Given 2 numbers a and b this tool returns their product\n"
     ]
    }
   ],
   "source": [
    "print(multiply.invoke({\"a\":10, \"b\":15}))\n",
    "print(multiply.name)\n",
    "print(multiply.description)"
   ]
  },
  {
   "cell_type": "markdown",
   "id": "6eded9e1",
   "metadata": {},
   "source": [
    "# Tool Binding"
   ]
  },
  {
   "cell_type": "code",
   "execution_count": 5,
   "id": "96b9e734",
   "metadata": {},
   "outputs": [
    {
     "name": "stdout",
     "output_type": "stream",
     "text": [
      "bound=ChatGoogleGenerativeAI(model='models/gemini-2.0-flash', google_api_key=SecretStr('**********'), client=<google.ai.generativelanguage_v1beta.services.generative_service.client.GenerativeServiceClient object at 0x0000015CC55B9780>, default_metadata=()) kwargs={'tools': [{'type': 'function', 'function': {'name': 'multiply', 'description': 'Given 2 numbers a and b this tool returns their product', 'parameters': {'properties': {'a': {'type': 'integer'}, 'b': {'type': 'integer'}}, 'required': ['a', 'b'], 'type': 'object'}}}]} config={} config_factories=[]\n"
     ]
    }
   ],
   "source": [
    "llm_with_tool = llm.bind_tools([multiply])\n",
    "print(llm_with_tool)"
   ]
  },
  {
   "cell_type": "code",
   "execution_count": 6,
   "id": "d42f2208",
   "metadata": {},
   "outputs": [
    {
     "data": {
      "text/plain": [
       "AIMessage(content='I am doing well, thank you for asking. How can I help you today?', additional_kwargs={}, response_metadata={'prompt_feedback': {'block_reason': 0, 'safety_ratings': []}, 'finish_reason': 'STOP', 'safety_ratings': []}, id='run--01b0f27c-d0b7-406c-8055-1fe0a087cf3f-0', usage_metadata={'input_tokens': 25, 'output_tokens': 18, 'total_tokens': 43, 'input_token_details': {'cache_read': 0}})"
      ]
     },
     "execution_count": 6,
     "metadata": {},
     "output_type": "execute_result"
    }
   ],
   "source": [
    "llm_with_tool.invoke(\"Hi how are you?\")"
   ]
  },
  {
   "cell_type": "code",
   "execution_count": 7,
   "id": "5866d366",
   "metadata": {},
   "outputs": [
    {
     "data": {
      "text/plain": [
       "AIMessage(content='', additional_kwargs={'function_call': {'name': 'multiply', 'arguments': '{\"a\": 10.0, \"b\": 25.0}'}}, response_metadata={'prompt_feedback': {'block_reason': 0, 'safety_ratings': []}, 'finish_reason': 'STOP', 'safety_ratings': []}, id='run--9fe0ab3c-6ef7-477a-b2dd-8b5b6c1f7409-0', tool_calls=[{'name': 'multiply', 'args': {'a': 10.0, 'b': 25.0}, 'id': 'ce85f1a2-d06b-4249-9f5b-e723854d4f0c', 'type': 'tool_call'}], usage_metadata={'input_tokens': 30, 'output_tokens': 5, 'total_tokens': 35, 'input_token_details': {'cache_read': 0}})"
      ]
     },
     "execution_count": 7,
     "metadata": {},
     "output_type": "execute_result"
    }
   ],
   "source": [
    "result = llm_with_tool.invoke(\"Can you multiply 10 with 25\")\n",
    "result"
   ]
  },
  {
   "cell_type": "code",
   "execution_count": 8,
   "id": "65c185ff",
   "metadata": {},
   "outputs": [
    {
     "data": {
      "text/plain": [
       "{'name': 'multiply',\n",
       " 'args': {'a': 10.0, 'b': 25.0},\n",
       " 'id': 'ce85f1a2-d06b-4249-9f5b-e723854d4f0c',\n",
       " 'type': 'tool_call'}"
      ]
     },
     "execution_count": 8,
     "metadata": {},
     "output_type": "execute_result"
    }
   ],
   "source": [
    "result.tool_calls[0]"
   ]
  },
  {
   "cell_type": "code",
   "execution_count": 9,
   "id": "ff552827",
   "metadata": {},
   "outputs": [
    {
     "data": {
      "text/plain": [
       "ToolMessage(content='250', name='multiply', tool_call_id='ce85f1a2-d06b-4249-9f5b-e723854d4f0c')"
      ]
     },
     "execution_count": 9,
     "metadata": {},
     "output_type": "execute_result"
    }
   ],
   "source": [
    "multiply.invoke(result.tool_calls[0])"
   ]
  },
  {
   "cell_type": "code",
   "execution_count": 10,
   "id": "9b281ed6",
   "metadata": {},
   "outputs": [
    {
     "data": {
      "text/plain": [
       "250"
      ]
     },
     "execution_count": 10,
     "metadata": {},
     "output_type": "execute_result"
    }
   ],
   "source": [
    "multiply.invoke(result.tool_calls[0]['args'])"
   ]
  },
  {
   "cell_type": "code",
   "execution_count": 11,
   "id": "787cf18f",
   "metadata": {},
   "outputs": [],
   "source": [
    "query = HumanMessage('can you multiply 3 with 1000')"
   ]
  },
  {
   "cell_type": "code",
   "execution_count": 12,
   "id": "f101438c",
   "metadata": {},
   "outputs": [
    {
     "data": {
      "text/plain": [
       "[HumanMessage(content='can you multiply 3 with 1000', additional_kwargs={}, response_metadata={})]"
      ]
     },
     "execution_count": 12,
     "metadata": {},
     "output_type": "execute_result"
    }
   ],
   "source": [
    "messages = [query]\n",
    "messages"
   ]
  },
  {
   "cell_type": "code",
   "execution_count": 13,
   "id": "4ccf4444",
   "metadata": {},
   "outputs": [],
   "source": [
    "result = llm_with_tool.invoke(messages)\n",
    "messages.append(result)"
   ]
  },
  {
   "cell_type": "code",
   "execution_count": 14,
   "id": "d0376d54",
   "metadata": {},
   "outputs": [
    {
     "data": {
      "text/plain": [
       "[HumanMessage(content='can you multiply 3 with 1000', additional_kwargs={}, response_metadata={}),\n",
       " AIMessage(content='', additional_kwargs={'function_call': {'name': 'multiply', 'arguments': '{\"a\": 3.0, \"b\": 1000.0}'}}, response_metadata={'prompt_feedback': {'block_reason': 0, 'safety_ratings': []}, 'finish_reason': 'STOP', 'safety_ratings': []}, id='run--f59998fb-9511-49fe-858b-d92a66013792-0', tool_calls=[{'name': 'multiply', 'args': {'a': 3.0, 'b': 1000.0}, 'id': '419e37aa-c900-4cae-b795-cc44f0c05726', 'type': 'tool_call'}], usage_metadata={'input_tokens': 31, 'output_tokens': 5, 'total_tokens': 36, 'input_token_details': {'cache_read': 0}})]"
      ]
     },
     "execution_count": 14,
     "metadata": {},
     "output_type": "execute_result"
    }
   ],
   "source": [
    "messages"
   ]
  },
  {
   "cell_type": "code",
   "execution_count": 15,
   "id": "204fbc52",
   "metadata": {},
   "outputs": [
    {
     "data": {
      "text/plain": [
       "ToolMessage(content='3000', name='multiply', tool_call_id='419e37aa-c900-4cae-b795-cc44f0c05726')"
      ]
     },
     "execution_count": 15,
     "metadata": {},
     "output_type": "execute_result"
    }
   ],
   "source": [
    "tool_result = multiply.invoke(result.tool_calls[0])\n",
    "tool_result"
   ]
  },
  {
   "cell_type": "code",
   "execution_count": 16,
   "id": "0d6c0a31",
   "metadata": {},
   "outputs": [],
   "source": [
    "messages.append(tool_result)"
   ]
  },
  {
   "cell_type": "code",
   "execution_count": 17,
   "id": "5072fe34",
   "metadata": {},
   "outputs": [
    {
     "data": {
      "text/plain": [
       "[HumanMessage(content='can you multiply 3 with 1000', additional_kwargs={}, response_metadata={}),\n",
       " AIMessage(content='', additional_kwargs={'function_call': {'name': 'multiply', 'arguments': '{\"a\": 3.0, \"b\": 1000.0}'}}, response_metadata={'prompt_feedback': {'block_reason': 0, 'safety_ratings': []}, 'finish_reason': 'STOP', 'safety_ratings': []}, id='run--f59998fb-9511-49fe-858b-d92a66013792-0', tool_calls=[{'name': 'multiply', 'args': {'a': 3.0, 'b': 1000.0}, 'id': '419e37aa-c900-4cae-b795-cc44f0c05726', 'type': 'tool_call'}], usage_metadata={'input_tokens': 31, 'output_tokens': 5, 'total_tokens': 36, 'input_token_details': {'cache_read': 0}}),\n",
       " ToolMessage(content='3000', name='multiply', tool_call_id='419e37aa-c900-4cae-b795-cc44f0c05726')]"
      ]
     },
     "execution_count": 17,
     "metadata": {},
     "output_type": "execute_result"
    }
   ],
   "source": [
    "messages"
   ]
  },
  {
   "cell_type": "code",
   "execution_count": 18,
   "id": "bd1cfc03",
   "metadata": {},
   "outputs": [
    {
     "data": {
      "text/plain": [
       "'The product of 3 and 1000 is 3000.'"
      ]
     },
     "execution_count": 18,
     "metadata": {},
     "output_type": "execute_result"
    }
   ],
   "source": [
    "llm_with_tool.invoke(messages).content"
   ]
  },
  {
   "cell_type": "code",
   "execution_count": 19,
   "id": "7c16af82",
   "metadata": {},
   "outputs": [],
   "source": [
    "# tool create\n",
    "from langchain_core.tools import InjectedToolArg\n",
    "from typing import Annotated\n",
    "\n",
    "@tool\n",
    "def get_conversion_factor(base_currency: str, target_currency: str) -> float:\n",
    "  \"\"\"\n",
    "  This function fetches the currency conversion factor between a given base currency and a target currency\n",
    "  \"\"\"\n",
    "  url = f'https://v6.exchangerate-api.com/v6/c754eab14ffab33112e380ca/pair/{base_currency}/{target_currency}'\n",
    "  response = requests.get(url)\n",
    "  return response.json()\n",
    "\n",
    "@tool\n",
    "def convert(base_currency_value: int, conversion_rate: Annotated[float, InjectedToolArg]) -> float:\n",
    "  \"\"\"\n",
    "  given a currency conversion rate this function calculates the target currency value from a given base currency value\n",
    "  \"\"\"\n",
    "  return base_currency_value * conversion_rate\n"
   ]
  },
  {
   "cell_type": "code",
   "execution_count": 20,
   "id": "393153aa",
   "metadata": {},
   "outputs": [
    {
     "data": {
      "text/plain": [
       "{'base_currency_value': {'title': 'Base Currency Value', 'type': 'integer'},\n",
       " 'conversion_rate': {'title': 'Conversion Rate', 'type': 'number'}}"
      ]
     },
     "execution_count": 20,
     "metadata": {},
     "output_type": "execute_result"
    }
   ],
   "source": [
    "convert.args"
   ]
  },
  {
   "cell_type": "code",
   "execution_count": 21,
   "id": "e50cf2c4",
   "metadata": {},
   "outputs": [
    {
     "data": {
      "text/plain": [
       "{'result': 'success',\n",
       " 'documentation': 'https://www.exchangerate-api.com/docs',\n",
       " 'terms_of_use': 'https://www.exchangerate-api.com/terms',\n",
       " 'time_last_update_unix': 1748995201,\n",
       " 'time_last_update_utc': 'Wed, 04 Jun 2025 00:00:01 +0000',\n",
       " 'time_next_update_unix': 1749081601,\n",
       " 'time_next_update_utc': 'Thu, 05 Jun 2025 00:00:01 +0000',\n",
       " 'base_code': 'USD',\n",
       " 'target_code': 'INR',\n",
       " 'conversion_rate': 85.7017}"
      ]
     },
     "execution_count": 21,
     "metadata": {},
     "output_type": "execute_result"
    }
   ],
   "source": [
    "get_conversion_factor.invoke({'base_currency':'USD','target_currency':'INR'})"
   ]
  },
  {
   "cell_type": "code",
   "execution_count": 22,
   "id": "68692879",
   "metadata": {},
   "outputs": [
    {
     "data": {
      "text/plain": [
       "851.5999999999999"
      ]
     },
     "execution_count": 22,
     "metadata": {},
     "output_type": "execute_result"
    }
   ],
   "source": [
    "convert.invoke({'base_currency_value':10, 'conversion_rate':85.16})"
   ]
  },
  {
   "cell_type": "code",
   "execution_count": 23,
   "id": "f009006f",
   "metadata": {},
   "outputs": [],
   "source": [
    "# tool binding\n",
    "llm = ChatGoogleGenerativeAI(model=\"model='gemini-2.0-flash'\")"
   ]
  },
  {
   "cell_type": "code",
   "execution_count": 24,
   "id": "aaefb72e",
   "metadata": {},
   "outputs": [],
   "source": [
    "llm_with_tools = llm.bind_tools([get_conversion_factor, convert])"
   ]
  },
  {
   "cell_type": "code",
   "execution_count": 25,
   "id": "800e124a",
   "metadata": {},
   "outputs": [
    {
     "data": {
      "text/plain": [
       "[HumanMessage(content='What is the conversion factor between INR and USD, and based on that can you convert 10 inr to usd', additional_kwargs={}, response_metadata={})]"
      ]
     },
     "execution_count": 25,
     "metadata": {},
     "output_type": "execute_result"
    }
   ],
   "source": [
    "messages = [HumanMessage('What is the conversion factor between INR and USD, and based on that can you convert 10 inr to usd')]\n",
    "messages"
   ]
  },
  {
   "cell_type": "code",
   "execution_count": 26,
   "id": "39d5115b",
   "metadata": {},
   "outputs": [
    {
     "data": {
      "text/plain": [
       "RunnableBinding(bound=ChatGoogleGenerativeAI(model=\"models/model='gemini-2.0-flash'\", google_api_key=SecretStr('**********'), client=<google.ai.generativelanguage_v1beta.services.generative_service.client.GenerativeServiceClient object at 0x0000015CC5942D70>, default_metadata=()), kwargs={'tools': [{'type': 'function', 'function': {'name': 'get_conversion_factor', 'description': 'This function fetches the currency conversion factor between a given base currency and a target currency', 'parameters': {'properties': {'base_currency': {'type': 'string'}, 'target_currency': {'type': 'string'}}, 'required': ['base_currency', 'target_currency'], 'type': 'object'}}}, {'type': 'function', 'function': {'name': 'convert', 'description': 'given a currency conversion rate this function calculates the target currency value from a given base currency value', 'parameters': {'properties': {'base_currency_value': {'type': 'integer'}}, 'required': ['base_currency_value'], 'type': 'object'}}}]}, config={}, config_factories=[])"
      ]
     },
     "execution_count": 26,
     "metadata": {},
     "output_type": "execute_result"
    }
   ],
   "source": [
    "llm_with_tools"
   ]
  },
  {
   "cell_type": "code",
   "execution_count": null,
   "id": "2dda3a7b",
   "metadata": {},
   "outputs": [],
   "source": [
    "ai_message =  llm_with_tools.invoke(messages).content"
   ]
  },
  {
   "cell_type": "code",
   "execution_count": null,
   "id": "1407aa04",
   "metadata": {},
   "outputs": [],
   "source": [
    "messages.append(ai_message)\n",
    "print(ai_message)"
   ]
  },
  {
   "cell_type": "code",
   "execution_count": null,
   "id": "e7406dab",
   "metadata": {},
   "outputs": [],
   "source": [
    "ai_message.tool_calls"
   ]
  },
  {
   "cell_type": "code",
   "execution_count": null,
   "id": "c2244915",
   "metadata": {},
   "outputs": [],
   "source": [
    "import json\n",
    "\n",
    "for tool_call in ai_message.tool_calls:\n",
    "  # execute the 1st tool and get the value of conversion rate\n",
    "  if tool_call['name'] == 'get_conversion_factor':\n",
    "    tool_message1 = get_conversion_factor.invoke(tool_call)\n",
    "\n",
    "    # fetch this conversion rate\n",
    "    conversion_rate = json.loads(tool_message1.content)['conversion_rate']\n",
    "\n",
    "    # append this tool message to messages list\n",
    "    messages.append(tool_message1)\n",
    "    \n",
    "  # execute the 2nd tool using the conversion rate from tool 1\n",
    "  if tool_call['name'] == 'convert':\n",
    "    # fetch the current arg\n",
    "    tool_call['args']['conversion_rate'] = conversion_rate\n",
    "    tool_message2 = convert.invoke(tool_call)\n",
    "    messages.append(tool_message2)\n",
    "\n"
   ]
  },
  {
   "cell_type": "code",
   "execution_count": null,
   "id": "0c7aa2de",
   "metadata": {},
   "outputs": [],
   "source": [
    "llm_with_tool.invoke(messages).content"
   ]
  }
 ],
 "metadata": {
  "kernelspec": {
   "display_name": "venv",
   "language": "python",
   "name": "python3"
  },
  "language_info": {
   "codemirror_mode": {
    "name": "ipython",
    "version": 3
   },
   "file_extension": ".py",
   "mimetype": "text/x-python",
   "name": "python",
   "nbconvert_exporter": "python",
   "pygments_lexer": "ipython3",
   "version": "3.10.11"
  }
 },
 "nbformat": 4,
 "nbformat_minor": 5
}
