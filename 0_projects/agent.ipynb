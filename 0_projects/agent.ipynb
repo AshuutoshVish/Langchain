{
 "cells": [
  {
   "cell_type": "code",
   "execution_count": 31,
   "id": "f92d8430",
   "metadata": {},
   "outputs": [
    {
     "data": {
      "text/plain": [
       "True"
      ]
     },
     "execution_count": 31,
     "metadata": {},
     "output_type": "execute_result"
    }
   ],
   "source": [
    "import os\n",
    "from dotenv import load_dotenv\n",
    "load_dotenv()"
   ]
  },
  {
   "cell_type": "code",
   "execution_count": 32,
   "id": "f9f8e005",
   "metadata": {},
   "outputs": [],
   "source": [
    "from langchain_google_genai import ChatGoogleGenerativeAI\n",
    "llm=ChatGoogleGenerativeAI(model=\"gemini-2.0-flash\")"
   ]
  },
  {
   "cell_type": "code",
   "execution_count": 33,
   "id": "db5d0f78",
   "metadata": {},
   "outputs": [],
   "source": [
    "from langchain_core.tools import tool\n",
    "import requests"
   ]
  },
  {
   "cell_type": "code",
   "execution_count": null,
   "id": "52fcafbc",
   "metadata": {},
   "outputs": [],
   "source": [
    "from langchain_community.tools import DuckDuckGoSearchRun\n",
    "search_tool = DuckDuckGoSearchRun()\n",
    "results = search_tool.invoke('top news in india today')\n"
   ]
  },
  {
   "cell_type": "code",
   "execution_count": 35,
   "id": "63822337",
   "metadata": {},
   "outputs": [
    {
     "data": {
      "text/plain": [
       "\"India News | Latest India News | Read latest and breaking news from India. Today's top India news headlines, news on Indian politics, elections, government, business, technology, and Bollywood. Headlines today: Get news headlines from India and around the world. Today's breaking news on politics, sports, entertainment, business, life style and many more on Times of India Read all India news and breaking news today from India on politics, business, entertainment, technology, sports, lifestyle and more at CNBC TV18. ... Top India News. ATF price cut by 3%, commercial LPG rate down by ₹24. Jun 1, 2025 12:45 PM IST. Pakistan spy case: Indian agency cracks down on 15 locations in 8 states. Get the latest India news, breaking news of today, and top updates of Bharat. Stay informed with real-time coverage and analysis of current news in India at news18. Reuters.com is your online source for the latest India news stories and current events, ensuring our readers up to date with any breaking news developments\""
      ]
     },
     "execution_count": 35,
     "metadata": {},
     "output_type": "execute_result"
    }
   ],
   "source": [
    "results"
   ]
  },
  {
   "cell_type": "code",
   "execution_count": 38,
   "id": "1caf0db0",
   "metadata": {},
   "outputs": [
    {
     "data": {
      "text/plain": [
       "AIMessage(content='Hi there! How can I help you today?', additional_kwargs={}, response_metadata={'prompt_feedback': {'block_reason': 0, 'safety_ratings': []}, 'finish_reason': 'STOP', 'safety_ratings': []}, id='run--8670c863-daaf-471b-9c02-00356b2e86db-0', usage_metadata={'input_tokens': 1, 'output_tokens': 11, 'total_tokens': 12, 'input_token_details': {'cache_read': 0}})"
      ]
     },
     "execution_count": 38,
     "metadata": {},
     "output_type": "execute_result"
    }
   ],
   "source": [
    "llm.invoke(\"hi\")"
   ]
  },
  {
   "cell_type": "code",
   "execution_count": 39,
   "id": "83334332",
   "metadata": {},
   "outputs": [
    {
     "data": {
      "text/plain": [
       "'Hi there! How can I help you today?'"
      ]
     },
     "execution_count": 39,
     "metadata": {},
     "output_type": "execute_result"
    }
   ],
   "source": [
    "llm.invoke(\"hi\").content"
   ]
  },
  {
   "cell_type": "code",
   "execution_count": 41,
   "id": "ed0515f1",
   "metadata": {},
   "outputs": [],
   "source": [
    "from langchain.agents import create_react_agent, AgentExecutor\n",
    "from langchain import hub #Has lots of predefined prompts"
   ]
  },
  {
   "cell_type": "code",
   "execution_count": null,
   "id": "c60eb5ec",
   "metadata": {},
   "outputs": [
    {
     "name": "stderr",
     "output_type": "stream",
     "text": [
      "c:\\Ashuu\\Langchain\\venv\\lib\\site-packages\\langsmith\\client.py:272: LangSmithMissingAPIKeyWarning: API key must be provided when using hosted LangSmith API\n",
      "  warnings.warn(\n"
     ]
    }
   ],
   "source": [
    "#Pull the standard prompt rect: reasoning and action\n",
    "prompt = hub.pull(\"hwchase17/react\") #Pulls the standard react prompt  reAct=reasoning + action"
   ]
  },
  {
   "cell_type": "code",
   "execution_count": 43,
   "id": "f5b4ed58",
   "metadata": {},
   "outputs": [
    {
     "data": {
      "text/plain": [
       "PromptTemplate(input_variables=['agent_scratchpad', 'input', 'tool_names', 'tools'], input_types={}, partial_variables={}, metadata={'lc_hub_owner': 'hwchase17', 'lc_hub_repo': 'react', 'lc_hub_commit_hash': 'd15fe3c426f1c4b3f37c9198853e4a86e20c425ca7f4752ec0c9b0e97ca7ea4d'}, template='Answer the following questions as best you can. You have access to the following tools:\\n\\n{tools}\\n\\nUse the following format:\\n\\nQuestion: the input question you must answer\\nThought: you should always think about what to do\\nAction: the action to take, should be one of [{tool_names}]\\nAction Input: the input to the action\\nObservation: the result of the action\\n... (this Thought/Action/Action Input/Observation can repeat N times)\\nThought: I now know the final answer\\nFinal Answer: the final answer to the original input question\\n\\nBegin!\\n\\nQuestion: {input}\\nThought:{agent_scratchpad}')"
      ]
     },
     "execution_count": 43,
     "metadata": {},
     "output_type": "execute_result"
    }
   ],
   "source": [
    "prompt"
   ]
  },
  {
   "cell_type": "code",
   "execution_count": null,
   "id": "c12108e3",
   "metadata": {},
   "outputs": [],
   "source": [
    "# Creating the reAct agent manually with the pulled prompt\n",
    "agent = create_react_agent(llm=llm,\n",
    "                           tools=[search_tool],\n",
    "                           prompt=prompt\n",
    "                           )"
   ]
  },
  {
   "cell_type": "code",
   "execution_count": 46,
   "id": "1c5c8600",
   "metadata": {},
   "outputs": [
    {
     "data": {
      "text/plain": [
       "RunnableAssign(mapper={\n",
       "  agent_scratchpad: RunnableLambda(lambda x: format_log_to_str(x['intermediate_steps']))\n",
       "})\n",
       "| PromptTemplate(input_variables=['agent_scratchpad', 'input'], input_types={}, partial_variables={'tools': 'duckduckgo_search - A wrapper around DuckDuckGo Search. Useful for when you need to answer questions about current events. Input should be a search query.', 'tool_names': 'duckduckgo_search'}, metadata={'lc_hub_owner': 'hwchase17', 'lc_hub_repo': 'react', 'lc_hub_commit_hash': 'd15fe3c426f1c4b3f37c9198853e4a86e20c425ca7f4752ec0c9b0e97ca7ea4d'}, template='Answer the following questions as best you can. You have access to the following tools:\\n\\n{tools}\\n\\nUse the following format:\\n\\nQuestion: the input question you must answer\\nThought: you should always think about what to do\\nAction: the action to take, should be one of [{tool_names}]\\nAction Input: the input to the action\\nObservation: the result of the action\\n... (this Thought/Action/Action Input/Observation can repeat N times)\\nThought: I now know the final answer\\nFinal Answer: the final answer to the original input question\\n\\nBegin!\\n\\nQuestion: {input}\\nThought:{agent_scratchpad}')\n",
       "| RunnableBinding(bound=ChatGoogleGenerativeAI(model='models/gemini-2.0-flash', google_api_key=SecretStr('**********'), client=<google.ai.generativelanguage_v1beta.services.generative_service.client.GenerativeServiceClient object at 0x0000025EB9D11420>, default_metadata=()), kwargs={'stop': ['\\nObservation']}, config={}, config_factories=[])\n",
       "| ReActSingleInputOutputParser()"
      ]
     },
     "execution_count": 46,
     "metadata": {},
     "output_type": "execute_result"
    }
   ],
   "source": [
    "agent"
   ]
  },
  {
   "cell_type": "code",
   "execution_count": 48,
   "id": "80b14242",
   "metadata": {},
   "outputs": [],
   "source": [
    "# wrap it with eagent executer onground\n",
    "Agent_executor= AgentExecutor(agent=agent,\n",
    "                               tools=[search_tool],\n",
    "                               verbose=True)"
   ]
  },
  {
   "cell_type": "code",
   "execution_count": 55,
   "id": "19015292",
   "metadata": {},
   "outputs": [
    {
     "name": "stdout",
     "output_type": "stream",
     "text": [
      "\n",
      "\n",
      "\u001b[1m> Entering new AgentExecutor chain...\u001b[0m\n",
      "\u001b[32;1m\u001b[1;3mI need to find a recent match between Royal Challengers Bangalore (RCB) and Punjab Kings (PBKS) and summarize it. I'll use a search engine to find a match report or summary.\n",
      "Action: duckduckgo_search\n",
      "Action Input: \"RCB vs PBKS match summary\"\u001b[0m\u001b[36;1m\u001b[1;3mIt's a sign of how far T20 has come that 190 beats 184 is a bowler-dominated game. PBKS did brilliantly to restrict RCB to 190, but RCB's bowlers were even better, and used their experience to ... Royal Challengers Bengaluru vs Punjab Kings, Final Match Summary RCB vs PBKS, 2025 - T20 Summary ... RCB vs PBKS Live Streaming IPL 2025 Final: When And Where To Watch In USA News 03 June 2025. RCB have lost Phil Salt early in the match, but are off to a steady start. Mayank Agarwal looks to be in blistering form and is getting the right support from senior colleague Virat Kohli. 7:31 PM ... Royal Challengers Bengaluru vs Punjab Kings: Scorecard, Highlights and Results of RCB and PBKS's last match in IPL 2025. By James Kuanal. Modified Jun 03, 2025 09:00 IST. Follow Us. Share. Royal Challengers Bengaluru : 65/2(7.2) | RCB vs PBKS IPL 2025 Match Final - Live Cricket Score, Full Scorecard: Catch the Live Cricket Score of Royal Challengers Bengaluru vs Punjab Kings along with Match Result, Scorecard Updates, Match Summary and Report at The Indian Express.\u001b[0m\u001b[32;1m\u001b[1;3mI found a match report from June 3, 2025. RCB batted first and scored 190. PBKS were restricted to 184. RCB won the match.\n",
      "Final Answer: In a match between RCB and PBKS on June 3, 2025, RCB scored 190 and restricted PBKS to 184, winning the match.\u001b[0m\n",
      "\n",
      "\u001b[1m> Finished chain.\u001b[0m\n"
     ]
    },
    {
     "data": {
      "text/plain": [
       "{'input': 'give a short summary of rcb vs pbks',\n",
       " 'output': 'In a match between RCB and PBKS on June 3, 2025, RCB scored 190 and restricted PBKS to 184, winning the match.'}"
      ]
     },
     "execution_count": 55,
     "metadata": {},
     "output_type": "execute_result"
    }
   ],
   "source": [
    "response = Agent_executor.invoke({\"input\": \"give a short summary of rcb vs pbks\"})\n",
    "response"
   ]
  },
  {
   "cell_type": "code",
   "execution_count": 56,
   "id": "87c5e5e8",
   "metadata": {},
   "outputs": [
    {
     "data": {
      "text/plain": [
       "'In a match between RCB and PBKS on June 3, 2025, RCB scored 190 and restricted PBKS to 184, winning the match.'"
      ]
     },
     "execution_count": 56,
     "metadata": {},
     "output_type": "execute_result"
    }
   ],
   "source": [
    "response['output']"
   ]
  },
  {
   "cell_type": "code",
   "execution_count": 57,
   "id": "b2fe7c6a",
   "metadata": {},
   "outputs": [
    {
     "name": "stdout",
     "output_type": "stream",
     "text": [
      "\n",
      "\n",
      "\u001b[1m> Entering new AgentExecutor chain...\u001b[0m\n",
      "\u001b[32;1m\u001b[1;3mLangChain is a framework designed to simplify the development of applications powered by large language models (LLMs). It provides tools and abstractions that make it easier to chain together different components, such as models, prompts, databases, and other utilities, to create more complex and sophisticated applications.\n",
      "\n",
      "Action: duckduckgo_search\n",
      "Action Input: langchain summary\u001b[0m\u001b[36;1m\u001b[1;3mExplore LangChain's stuffing, map-reducing, refining, and custom techniques, which all depend on the user's specific requirements, document features, and overall performance expectations. ... Text summarization is the process of generating the summary of a given text or document while retaining the key points from the document. There are two ... Langchain Community . The Langchain framework is used to build, deploy and manage LLMs by chaining interoperable components. Langchain Community is a part of the parent framework, which is used to interact with large language models and APIs. ... Summary. In this post, we have understood how to use the model running locally on the computer to ... LangChain is a powerful tool that can be used to build a wide range of LLM-powered applications. It is simple to use and has a large user and contributor community. Conversational Agents: Build chatbots and virtual assistants that can engage in meaningful, context-aware conversations with users. It introduces LangChain's core components chains, prompt templates, models & tools. Sitemap. Open in app. ... that takes an paragraph as input and returns a short summary with neutral tone. Langchain Summarization Techniques & Leveraging GenerativeAI Hub via Custom Model (this blog) In this blog post, we will explore the technical details of using Langchain's summarization chain, incorporating custom model class, and integrating seamlessly with Generative AI Hub via the cap-llm-plugin. By understanding these tools and techniques ...\u001b[0m\u001b[32;1m\u001b[1;3mLangChain is a framework for building applications using large language models (LLMs). It simplifies the process by providing tools and abstractions to chain together components like models, prompts, and databases. It's used for tasks like building chatbots and document summarization.\n",
      "Final Answer: LangChain is a framework designed to simplify the development of applications powered by large language models (LLMs). It provides tools and abstractions that make it easier to chain together different components, such as models, prompts, databases, and other utilities, to create more complex and sophisticated applications. It's used for tasks like building chatbots and document summarization.\u001b[0m\n",
      "\n",
      "\u001b[1m> Finished chain.\u001b[0m\n"
     ]
    },
    {
     "data": {
      "text/plain": [
       "{'input': 'give a summary of langchain',\n",
       " 'output': \"LangChain is a framework designed to simplify the development of applications powered by large language models (LLMs). It provides tools and abstractions that make it easier to chain together different components, such as models, prompts, databases, and other utilities, to create more complex and sophisticated applications. It's used for tasks like building chatbots and document summarization.\"}"
      ]
     },
     "execution_count": 57,
     "metadata": {},
     "output_type": "execute_result"
    }
   ],
   "source": [
    "response = Agent_executor.invoke({\"input\": \"give a summary of langchain\"})\n",
    "response"
   ]
  },
  {
   "cell_type": "code",
   "execution_count": 58,
   "id": "53062c4a",
   "metadata": {},
   "outputs": [
    {
     "data": {
      "text/plain": [
       "\"LangChain is a framework designed to simplify the development of applications powered by large language models (LLMs). It provides tools and abstractions that make it easier to chain together different components, such as models, prompts, databases, and other utilities, to create more complex and sophisticated applications. It's used for tasks like building chatbots and document summarization.\""
      ]
     },
     "execution_count": 58,
     "metadata": {},
     "output_type": "execute_result"
    }
   ],
   "source": [
    "response['output']"
   ]
  }
 ],
 "metadata": {
  "kernelspec": {
   "display_name": "venv",
   "language": "python",
   "name": "python3"
  },
  "language_info": {
   "codemirror_mode": {
    "name": "ipython",
    "version": 3
   },
   "file_extension": ".py",
   "mimetype": "text/x-python",
   "name": "python",
   "nbconvert_exporter": "python",
   "pygments_lexer": "ipython3",
   "version": "3.10.11"
  }
 },
 "nbformat": 4,
 "nbformat_minor": 5
}
