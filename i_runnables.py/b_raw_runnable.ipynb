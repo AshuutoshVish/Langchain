{
 "cells": [
  {
   "cell_type": "code",
   "execution_count": 30,
   "id": "2eb1d7e5",
   "metadata": {},
   "outputs": [],
   "source": [
    "import random\n",
    "class RawLLM:\n",
    "    def __init__(self):\n",
    "        print(\"LLM Created\")\n",
    "        \n",
    "    def predict(self, prompt):\n",
    "        response_list = [\n",
    "            \"Delhi is the capital of India\",\n",
    "            \"Ipl is a game of cricket\",\n",
    "            \"AIML stands for the Artificail Intellegence and Machine Learning\"\n",
    "        ]\n",
    "        return {\"response\": random.choice(response_list)}"
   ]
  },
  {
   "cell_type": "code",
   "execution_count": 31,
   "id": "b693967a",
   "metadata": {},
   "outputs": [
    {
     "name": "stdout",
     "output_type": "stream",
     "text": [
      "LLM Created\n"
     ]
    }
   ],
   "source": [
    "llm=RawLLM()"
   ]
  },
  {
   "cell_type": "code",
   "execution_count": 32,
   "id": "0a324974",
   "metadata": {},
   "outputs": [
    {
     "data": {
      "text/plain": [
       "{'response': 'AIML stands for the Artificail Intellegence and Machine Learning'}"
      ]
     },
     "execution_count": 32,
     "metadata": {},
     "output_type": "execute_result"
    }
   ],
   "source": [
    "llm.predict(\"What is the capital of India\")"
   ]
  },
  {
   "cell_type": "code",
   "execution_count": 33,
   "id": "02ef0e01",
   "metadata": {},
   "outputs": [],
   "source": [
    "class RawPromptTemplate:\n",
    "    def __init__(self, template, input_variables):\n",
    "        self.template=template\n",
    "        self.input_varianles=input_variables\n",
    "    def format(self, input_dict):\n",
    "        return self.template.format(**input_dict)"
   ]
  },
  {
   "cell_type": "code",
   "execution_count": 34,
   "id": "2d96dcfe",
   "metadata": {},
   "outputs": [],
   "source": [
    "template = RawPromptTemplate(\n",
    "    template=\"Write a {length} poem about {topic}\",\n",
    "    input_variables = [\"length\", \"topic\"]\n",
    ")"
   ]
  },
  {
   "cell_type": "code",
   "execution_count": 35,
   "id": "3f8a4171",
   "metadata": {},
   "outputs": [],
   "source": [
    "prompt = template.format({\"length\" : \"short\", \"topic\":\"jobma\"})"
   ]
  },
  {
   "cell_type": "code",
   "execution_count": 36,
   "id": "c2b50e8c",
   "metadata": {},
   "outputs": [
    {
     "name": "stdout",
     "output_type": "stream",
     "text": [
      "LLM Created\n"
     ]
    }
   ],
   "source": [
    "llm=RawLLM()"
   ]
  },
  {
   "cell_type": "code",
   "execution_count": 37,
   "id": "00fc98b2",
   "metadata": {},
   "outputs": [
    {
     "data": {
      "text/plain": [
       "{'response': 'Delhi is the capital of India'}"
      ]
     },
     "execution_count": 37,
     "metadata": {},
     "output_type": "execute_result"
    }
   ],
   "source": [
    "llm.predict(prompt)"
   ]
  }
 ],
 "metadata": {
  "kernelspec": {
   "display_name": "Python 3",
   "language": "python",
   "name": "python3"
  },
  "language_info": {
   "codemirror_mode": {
    "name": "ipython",
    "version": 3
   },
   "file_extension": ".py",
   "mimetype": "text/x-python",
   "name": "python",
   "nbconvert_exporter": "python",
   "pygments_lexer": "ipython3",
   "version": "3.10.11"
  }
 },
 "nbformat": 4,
 "nbformat_minor": 5
}
