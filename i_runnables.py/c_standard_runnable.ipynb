{
 "cells": [
  {
   "cell_type": "code",
   "execution_count": 79,
   "id": "9b5da73d",
   "metadata": {},
   "outputs": [],
   "source": [
    "import random\n",
    "from abc import ABC, abstractmethod"
   ]
  },
  {
   "cell_type": "code",
   "execution_count": 80,
   "id": "0b211374",
   "metadata": {},
   "outputs": [],
   "source": [
    "class Runnable(ABC):\n",
    "    @abstractmethod\n",
    "    def invoke(input_data):\n",
    "        pass"
   ]
  },
  {
   "cell_type": "code",
   "execution_count": 81,
   "id": "12ead839",
   "metadata": {},
   "outputs": [],
   "source": [
    "class RawLLM(Runnable):\n",
    "    def __init__(self):\n",
    "        print(\"LLM Created\")\n",
    "    \n",
    "    def invoke(self, prompt):\n",
    "        response_list = [\"Delhi is the capital of India\",\n",
    "                         \"AI stands for Artificial Intellegence\",\n",
    "                         \"IPL is the game of legends\"]\n",
    "    \n",
    "        return {\"response\": random.choice(response_list)}\n",
    "    \n",
    "\n",
    "    # # This method can be depreciated further so use above\n",
    "    def predict(self, prompt):\n",
    "        response_list = [\"Delhi is the capital of India\",\n",
    "                         \"AI stands for Artificial Intellegence\",\n",
    "                         \"IPL is the game of legends\"]\n",
    "        \n",
    "        return {\"response\": random.choice(response_list)}"
   ]
  },
  {
   "cell_type": "code",
   "execution_count": 82,
   "id": "cce7b2f1",
   "metadata": {},
   "outputs": [],
   "source": [
    "class RawPromptTemplate(Runnable):\n",
    "    def __init__(self, template, input_variables):\n",
    "        self.template = template\n",
    "        self.input_variables=input_variables\n",
    "        \n",
    "    def invoke(self, input_dict):\n",
    "        return self.template.format(**input_dict)\n",
    "\n",
    "    # # May be format can be depreciated so use invoke\n",
    "    def format(self, input_dict):\n",
    "        return self.template.format(**input_dict)"
   ]
  },
  {
   "cell_type": "code",
   "execution_count": 83,
   "id": "d31c698e",
   "metadata": {},
   "outputs": [],
   "source": [
    "class RawStrOutputParser(Runnable):\n",
    "    def __init__(self):\n",
    "        pass\n",
    "\n",
    "    def invoke(input_data):\n",
    "        return input_data['response']"
   ]
  },
  {
   "cell_type": "code",
   "execution_count": 84,
   "id": "149ecf75",
   "metadata": {},
   "outputs": [],
   "source": [
    "class RawStrOutputParser(Runnable):\n",
    "\n",
    "  def __init__(self):\n",
    "    pass\n",
    "\n",
    "  def invoke(self, input_data):\n",
    "    return input_data['response']"
   ]
  },
  {
   "cell_type": "code",
   "execution_count": 85,
   "id": "c5ae0488",
   "metadata": {},
   "outputs": [],
   "source": [
    "class RunnableConnector(Runnable):\n",
    "    def __init__(self, runnable_list):\n",
    "        self.runnable_list = runnable_list\n",
    "\n",
    "    def invoke(self, input_data):\n",
    "        for runnable in self.runnable_list:\n",
    "            input_data = runnable.invoke(input_data)\n",
    "        return input_data\n",
    "    "
   ]
  },
  {
   "cell_type": "code",
   "execution_count": 86,
   "id": "11fd9b72",
   "metadata": {},
   "outputs": [],
   "source": [
    "template = RawPromptTemplate(\n",
    "    template='Write a {length} poem about {topic}',\n",
    "    input_variables=['length', 'topic']\n",
    ")"
   ]
  },
  {
   "cell_type": "code",
   "execution_count": null,
   "id": "733b209f",
   "metadata": {},
   "outputs": [
    {
     "name": "stdout",
     "output_type": "stream",
     "text": [
      "LLM Created\n"
     ]
    }
   ],
   "source": [
    "llm = RawLLM()"
   ]
  },
  {
   "cell_type": "code",
   "execution_count": 88,
   "id": "10defa6d",
   "metadata": {},
   "outputs": [],
   "source": [
    "parser = RawStrOutputParser()"
   ]
  },
  {
   "cell_type": "code",
   "execution_count": 89,
   "id": "fed828b3",
   "metadata": {},
   "outputs": [],
   "source": [
    "chain = RunnableConnector([template, llm, parser])"
   ]
  },
  {
   "cell_type": "code",
   "execution_count": 90,
   "id": "88e328cb",
   "metadata": {},
   "outputs": [
    {
     "data": {
      "text/plain": [
       "'AI stands for Artificial Intellegence'"
      ]
     },
     "execution_count": 90,
     "metadata": {},
     "output_type": "execute_result"
    }
   ],
   "source": [
    "chain.invoke({\"length\": \"long\",  \"topic\": \"India\"})"
   ]
  }
 ],
 "metadata": {
  "kernelspec": {
   "display_name": "Python 3",
   "language": "python",
   "name": "python3"
  },
  "language_info": {
   "codemirror_mode": {
    "name": "ipython",
    "version": 3
   },
   "file_extension": ".py",
   "mimetype": "text/x-python",
   "name": "python",
   "nbconvert_exporter": "python",
   "pygments_lexer": "ipython3",
   "version": "3.10.11"
  }
 },
 "nbformat": 4,
 "nbformat_minor": 5
}
